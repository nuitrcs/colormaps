{
  "cells": [
    {
      "cell_type": "markdown",
      "metadata": {
        "id": "pzc9BpmOM0JI"
      },
      "source": [
        "# Colormaps\n",
        "\n",
        "Welcome!\n"
      ]
    },
    {
      "cell_type": "markdown",
      "source": [
        "\n",
        "*Reminder: click in a code cell and type shift+return (shift+enter on a PC) to run a code cell.*"
      ],
      "metadata": {
        "id": "Oh99X0ZfEBaG"
      }
    },
    {
      "cell_type": "markdown",
      "source": [
        "\n",
        "In this chapter of Next Steps in Python, we will learn the basics of colormaps: what they are, how to use them, some best practice tips, and how to create your own."
      ],
      "metadata": {
        "id": "5u3fSiIKD90c"
      }
    },
    {
      "cell_type": "markdown",
      "source": [
        "Colormaps may seem at first sight a secondary, ornamental issue. However, when presenting complicated data, using colormaps appropriately is crucial for conveying the right information!"
      ],
      "metadata": {
        "id": "mPmdDil5EMlJ"
      }
    },
    {
      "cell_type": "markdown",
      "metadata": {
        "id": "ZoLK4QfGNLuz"
      },
      "source": [
        "## What is a colormap?\n",
        "\n",
        "**Working Definition 1:** A pre-specified set of colors for your visualizations!\n",
        "\n",
        "Here is an example of a colormap. Its name is viridis:\n",
        "\n",
        "![viridis.png](data:image/png;base64,iVBORw0KGgoAAAANSUhEUgAAAV0AAAAvCAYAAABAFRnJAAAAOXRFWHRTb2Z0d2FyZQBNYXRwbG90bGliIHZlcnNpb24zLjcuMiwgaHR0cHM6Ly9tYXRwbG90bGliLm9yZy8pXeV/AAAACXBIWXMAAAsTAAALEwEAmpwYAAACCElEQVR4nO3WSXLcMAwFUIDKIXKhHCGnz12ELESpqR6SrOBF3qtytcABpMvl38qqqgCgxfjqCwD8T4QuQCOhC9BI6AI0EroAjYQuQKNvf5r8MX4eD5kROSJHznpEjIzMWY9xrBljLs+Ikde6tcdZZ+ZtT1z1/FzGatzra37c68o8vkY+jc0elXHdozIjchk/zxlzLiIil3UR1/51fWXMPnHrW+fX2rseeX7m61is808938yvY//S4/09Pu15/t2ezniz53NdLz1f7h5P9TVff+0bL3etW732ifxc51PPPNdEXHPHn65ue876fH5Xn8eMs55rxlwzrj3H87r+3DOuPRUj1h51/UREjKgYud/H5p5Hvcc2xx49jrHnHlvst3PWesv96nE+b7k/zph9tljOjf26xxb73LfPHjXnH3vO+bPvFvVaz773c2qpa+6r5Zy63kC3GRlbRGzzf/OoM8ast8gYMZb5ESMytjy6jO+/4hNvugCNhC5AI6EL0EjoAjQSugCNhC5AI6EL0EjoAjQSugCNhC5AI6EL0EjoAjQSugCNhC5AI6EL0EjoAjQSugCNhC5AI6EL0EjoAjQSugCNhC5AI6EL0EjoAjQSugCNhC5AI6EL0EjoAjQSugCNhC5AI6EL0EjoAjTKqqqvvgTA/8KbLkAjoQvQSOgCNBK6AI2ELkAjoQvQ6Ddt6JFX3hU2WAAAAABJRU5ErkJggg==)"
      ]
    },
    {
      "cell_type": "markdown",
      "metadata": {
        "id": "b2MZOqAzcMpu"
      },
      "source": [
        "### Matplotlib Review\n",
        "\n",
        "Colormaps are part of the `matplotlib` library. Hence, before we see them in action, let's take a quick refresher of matplotlib. [Here](https://matplotlib.org/stable/_images/anatomy.png) is their own illustration of a figure's anatomy."
      ]
    },
    {
      "cell_type": "markdown",
      "source": [
        "OK, now let us declare the necessary imports for this workshop:"
      ],
      "metadata": {
        "id": "BKiJ8carFJ-y"
      }
    },
    {
      "cell_type": "code",
      "execution_count": null,
      "metadata": {
        "id": "HMQ0-_t7MhZn"
      },
      "outputs": [],
      "source": [
        "# Imports\n",
        "\n",
        "import matplotlib as mpl\n",
        "import matplotlib.pyplot as plt\n",
        "from matplotlib import colormaps\n",
        "from matplotlib.colors import ListedColormap\n",
        "import numpy as np"
      ]
    },
    {
      "cell_type": "markdown",
      "metadata": {
        "id": "RcRUcxQ_cN-h"
      },
      "source": [
        "## Why do we need colormaps? A case example"
      ]
    },
    {
      "cell_type": "markdown",
      "source": [
        "Imagine you have a dataset in the form of sinusoidal wave signals, shifted by some phase $\\phi$. Our goal is to visualize these signals."
      ],
      "metadata": {
        "id": "8rDfLPAuE9A4"
      }
    },
    {
      "cell_type": "markdown",
      "source": [
        "**NOTE:** You don't need to \"follow the math\" to learn about colormaps. You can imagine the `x` and the `y` below are data at your disposal"
      ],
      "metadata": {
        "id": "8lISJIyEJ5sC"
      }
    },
    {
      "cell_type": "code",
      "execution_count": null,
      "metadata": {
        "id": "5tKiyZZ7SF_4"
      },
      "outputs": [],
      "source": [
        "# Let's start by creating a simple sinusoidal wave:\n",
        "\n",
        "k = 3/4\n",
        "x = np.linspace(0, k*2*np.pi, num=200) # <-- x points between 0 and 3pi/2\n",
        "y = np.sin(x)"
      ]
    },
    {
      "cell_type": "markdown",
      "source": [
        "Now we create a figure and axes object, and plot:"
      ],
      "metadata": {
        "id": "OWSMCX2FJjhW"
      }
    },
    {
      "cell_type": "code",
      "source": [
        "fig, ax = plt.subplots()\n",
        "ax.plot(x,y)"
      ],
      "metadata": {
        "id": "X5BrJ7ucJMlr"
      },
      "execution_count": null,
      "outputs": []
    },
    {
      "cell_type": "markdown",
      "metadata": {
        "id": "6xlRWxEMgCaN"
      },
      "source": [
        "Remember that I can specify the color using the parameter `c`:"
      ]
    },
    {
      "cell_type": "code",
      "execution_count": null,
      "metadata": {
        "id": "hNFAwnIqgLVH"
      },
      "outputs": [],
      "source": [
        "fig, ax = plt.subplots() # In google colab it is easier to declare a new figure\n",
        "ax.plot(x,y, c = \"purple\")"
      ]
    },
    {
      "cell_type": "markdown",
      "metadata": {
        "id": "EVouIKLkhHz1"
      },
      "source": [
        "In a moment we will plot curves with a different phase, so let me label this one:"
      ]
    },
    {
      "cell_type": "code",
      "execution_count": null,
      "metadata": {
        "id": "MK6OiQbdhNHL"
      },
      "outputs": [],
      "source": [
        "fig, ax = plt.subplots()\n",
        "ax.plot(x,y, c = \"purple\", label = r\"$\\phi = 0$\")\n",
        "ax.legend()"
      ]
    },
    {
      "cell_type": "markdown",
      "metadata": {
        "id": "mkgxGbCvZ9Ng"
      },
      "source": [
        "#### **Exercise**\n",
        "\n",
        "Plot two more sinusoidal waves that are off by $\\pi$/4 and $\\pi$/2. Remember a wave with a $\\phi$ phase offset has the form: $sin(x + \\phi)$.\n",
        "\n",
        "Specify the color of the curves so you can differentiate among different values of $\\phi$.\n",
        "\n",
        "Hint: you can use `np.pi` for the constant $\\pi$."
      ]
    },
    {
      "cell_type": "code",
      "execution_count": null,
      "metadata": {
        "id": "0MwQrs37Zm0e"
      },
      "outputs": [],
      "source": []
    },
    {
      "cell_type": "markdown",
      "metadata": {
        "id": "CmdpOQ80anN9"
      },
      "source": [
        "<br><br><br>\n",
        "\n",
        "## Many waves:\n",
        "\n",
        "\n",
        "OK, now let's see what happens when we plot many waves with different phases:"
      ]
    },
    {
      "cell_type": "code",
      "execution_count": null,
      "metadata": {
        "id": "RSupQ3maV4bT"
      },
      "outputs": [],
      "source": [
        "fig, ax = plt.subplots()\n",
        "phi_vec = np.linspace(0,np.pi, num=50)\n",
        "for phi in phi_vec:\n",
        "  y = np.sin(x + phi)\n",
        "  ax.plot(x,y)"
      ]
    },
    {
      "cell_type": "markdown",
      "metadata": {
        "id": "mPh95yC_X-z5"
      },
      "source": [
        "The figure is now cumbersome, how can we keep track of the phase?\n",
        "\n",
        "Some things to note:\n",
        "1.   The colors don't give a sense of the phase\n",
        "2.   Eventually we run out of colors and recycle them!\n",
        "\n",
        "While it is unlikely you will plot so many lines in a figure, there are instances where color is crucial for understanding data, for example heatmaps and scatterplots. We will get back to these soon."
      ]
    },
    {
      "cell_type": "markdown",
      "metadata": {
        "id": "EwaHauf_bwDp"
      },
      "source": [
        "## Enter colormaps\n",
        "\n",
        "As mentioned, colormaps are sets of colors that can help us make sense of data. In a minute we will expand on them, but first let's quickly use one for the plot above:"
      ]
    },
    {
      "cell_type": "code",
      "execution_count": null,
      "metadata": {
        "id": "x1a2aXOAc4KS"
      },
      "outputs": [],
      "source": [
        "cm = mpl.colormaps[\"Purples\"]\n",
        "\n",
        "fig, ax = plt.subplots()\n",
        "phi_vec = np.linspace(0,np.pi, num=50) # <-- try with num=100 also\n",
        "for phi in phi_vec:\n",
        "  y = np.sin(x + phi)\n",
        "  ax.plot(x,y, c = cm(phi/np.pi))"
      ]
    },
    {
      "cell_type": "markdown",
      "metadata": {
        "id": "hIPHa-uTfp8B"
      },
      "source": [
        "See how easy it is to keep track of the individual waves and the phase!"
      ]
    },
    {
      "cell_type": "markdown",
      "metadata": {
        "id": "hs8EN0dHoSYp"
      },
      "source": [
        "#### **Exercise**\n",
        "\n",
        "Repeat the above but using the colormap named \"viridis\"."
      ]
    },
    {
      "cell_type": "code",
      "execution_count": null,
      "metadata": {
        "id": "CzqTXXQqj5qx"
      },
      "outputs": [],
      "source": []
    },
    {
      "cell_type": "markdown",
      "metadata": {
        "id": "CIN-UIo9hi2V"
      },
      "source": [
        "<br><br><br><br><br>\n",
        "\n",
        "## Using colormaps\n",
        "\n",
        "With the above colormap, I don't need a ton of labels for each curve, I can convey my message with a colorbar (we'll get to those also):"
      ]
    },
    {
      "cell_type": "code",
      "execution_count": null,
      "metadata": {
        "id": "TkwLn5kdhu2d"
      },
      "outputs": [],
      "source": [
        "cm = mpl.colormaps[\"Purples\"]\n",
        "\n",
        "fig, ax = plt.subplots()\n",
        "for phi in phi_vec:\n",
        "  y = np.sin(x + phi)\n",
        "  ax.plot(x,y, c = cm(phi/np.pi))\n",
        "\n",
        "# Ignore these two lines for now (we will learn what they mean later)\n",
        "norm = mpl.colors.Normalize(vmin=0, vmax=np.pi)\n",
        "fig.colorbar(mpl.cm.ScalarMappable(cmap = \"Purples\", norm = norm), ax = ax, label = r\"Phase $\\phi$\")"
      ]
    },
    {
      "cell_type": "markdown",
      "metadata": {
        "id": "q_ZpP5nhf5Xr"
      },
      "source": [
        "OK, so what did we do there?\n",
        "\n",
        "First, we obtained the colormap called \"Purples\". This one is provided by matplotlib. You can get a colormap with `matplotlib.colormaps[<name>]`(note the square brackets).\n"
      ]
    },
    {
      "cell_type": "markdown",
      "source": [
        "\n",
        "How do you know which colormaps are available for you? You can consult the **list of colormaps**:"
      ],
      "metadata": {
        "id": "ElEzrt5CHmMn"
      }
    },
    {
      "cell_type": "code",
      "execution_count": null,
      "metadata": {
        "id": "vOBzTZE8k4mI"
      },
      "outputs": [],
      "source": [
        "# remember we imported colormaps\n",
        "list(colormaps)"
      ]
    },
    {
      "cell_type": "markdown",
      "metadata": {
        "id": "lUoEbrJelG-I"
      },
      "source": [
        "Let's take a look at them [here](https://matplotlib.org/stable/gallery/color/colormap_reference.html)."
      ]
    },
    {
      "cell_type": "markdown",
      "metadata": {
        "id": "jB7lZEkvlgs4"
      },
      "source": [
        "Great, now, how do we access the individual colors of a colormap?"
      ]
    },
    {
      "cell_type": "code",
      "execution_count": null,
      "metadata": {
        "id": "zGqcTETilmwr"
      },
      "outputs": [],
      "source": [
        "cm = mpl.colormaps[\"viridis\"]\n",
        "\n",
        "cm(0)"
      ]
    },
    {
      "cell_type": "markdown",
      "metadata": {
        "id": "BHfcLkQdls7P"
      },
      "source": [
        "The obtained colormap is a **callable** object, meaning you can \"call\" it with the parentheses (as you would with a function) and it will give you something in return.\n",
        "\n",
        "In this case the argument is a number, and the output is an *RGBA value* representing a color.\n",
        "\n",
        "**RGBA:** red, green blue, alpha (transparency)."
      ]
    },
    {
      "cell_type": "code",
      "execution_count": null,
      "metadata": {
        "id": "iNTmpSb-muyP"
      },
      "outputs": [],
      "source": [
        "fig,ax = plt.subplots()\n",
        "ax.plot(x,x, c = cm(0))\n",
        "ax.plot(x,x+1, c = cm(.5))\n",
        "ax.plot(x, x+2, c = cm(.99))"
      ]
    },
    {
      "cell_type": "markdown",
      "source": [
        "Noticed I gave values between 0 and 1."
      ],
      "metadata": {
        "id": "VhUxf20KLWPI"
      }
    },
    {
      "cell_type": "markdown",
      "metadata": {
        "id": "oZdHgmL4mNgJ"
      },
      "source": [
        "This brings us to a second definition of a colormap:\n",
        "\n",
        "**Definition 2:** A colormap is a function from the interval $[0,1)$ to RGBA color space."
      ]
    },
    {
      "cell_type": "markdown",
      "metadata": {
        "id": "EXsE1_RNn7_J"
      },
      "source": [
        "### Exercise\n",
        "\n",
        "Plot a five different lines, as above, using colors from the colormap \"inferno\". Go back to the color [reference](https://matplotlib.org/stable/gallery/color/colormap_reference.html) and see how the fraction you use for the color corresponds to the position in the colormap."
      ]
    },
    {
      "cell_type": "code",
      "source": [],
      "metadata": {
        "id": "1ke5vZ-OMLJQ"
      },
      "execution_count": null,
      "outputs": []
    },
    {
      "cell_type": "markdown",
      "source": [
        "<br><br><br><br><br>"
      ],
      "metadata": {
        "id": "oSrG53UvMLoL"
      }
    },
    {
      "cell_type": "markdown",
      "metadata": {
        "id": "gF0rGIzvpf6s"
      },
      "source": [
        "Let's revisit our code above, and note how I used the colormap to indicate the curve colors:"
      ]
    },
    {
      "cell_type": "code",
      "execution_count": null,
      "metadata": {
        "id": "woHK4KXope5u"
      },
      "outputs": [],
      "source": [
        "cm = mpl.colormaps[\"viridis\"]\n",
        "\n",
        "fig, ax = plt.subplots()\n",
        "phi_vec = np.linspace(0,np.pi, num=100)\n",
        "for phi in phi_vec:\n",
        "  y = np.sin(x + phi)\n",
        "  ax.plot(x,y, c = cm(phi/np.pi)) # <-- This is where I call my colormap!"
      ]
    },
    {
      "cell_type": "markdown",
      "metadata": {
        "id": "2jPljpdapxrI"
      },
      "source": [
        "**Question:**\n",
        "\n",
        "Why is the argument $\\phi / \\pi$ and not just $\\phi$?\n",
        "\n",
        "**Answer:**\n",
        "\n",
        "The argument must be in $[0,1)$, so I've normalized it by the maximum value of $\\phi$."
      ]
    },
    {
      "cell_type": "markdown",
      "metadata": {
        "id": "uIjOKwGfqiOM"
      },
      "source": [
        "#### **Exercise**\n",
        "\n",
        "What happens if we forget to normalize?"
      ]
    },
    {
      "cell_type": "code",
      "execution_count": null,
      "metadata": {
        "id": "oJ0mOB3XqqGb"
      },
      "outputs": [],
      "source": []
    },
    {
      "cell_type": "markdown",
      "metadata": {
        "id": "5lQgW9n9o19z"
      },
      "source": [
        "<br><br><br>\n",
        "\n",
        "## Other plot types\n",
        "\n",
        "In line plots, like the ones above, we need to specify individual colors with the `c` argument. However, other plots accept a full colormap as argument!"
      ]
    },
    {
      "cell_type": "markdown",
      "metadata": {
        "id": "xJLl704Er-qD"
      },
      "source": [
        "### Scatter plots\n",
        "Let's first explore a **scatter plot** (the following example is adapted from matplotlib's documentation)."
      ]
    },
    {
      "cell_type": "markdown",
      "source": [
        "We start by creating our data. In reality you would have your own dataset, but here we will just make random points:"
      ],
      "metadata": {
        "id": "N7essQPaNMgF"
      }
    },
    {
      "cell_type": "code",
      "execution_count": null,
      "metadata": {
        "id": "olEl9ILcr9yE"
      },
      "outputs": [],
      "source": [
        "# Let's create a scatterplot\n",
        "np.random.seed(42)\n",
        "\n",
        "n = 50\n",
        "x = np.random.rand(n)\n",
        "y = np.random.rand(n)\n",
        "\n",
        "z = np.random.rand(n)"
      ]
    },
    {
      "cell_type": "markdown",
      "source": [
        "`z` is some variable you want to visualize through color. For example $(x,y)$ may be latitude and longitude and $z$ is the intensity of grazing activity of an animal species."
      ],
      "metadata": {
        "id": "h3IBTbG1NqLf"
      }
    },
    {
      "cell_type": "code",
      "source": [
        "fig,ax = plt.subplots()\n",
        "ax.scatter(x, y, c=z, s=200)"
      ],
      "metadata": {
        "id": "1H1QpvO-NJSF"
      },
      "execution_count": null,
      "outputs": []
    },
    {
      "cell_type": "markdown",
      "metadata": {
        "id": "GJem81Z9tLIs"
      },
      "source": [
        "Notice we didn't indicate the colormap, but contrary to `plot`, it used \"viridis\" as default (plot uses \"tab10\").\n",
        "\n",
        "We can change it though:"
      ]
    },
    {
      "cell_type": "code",
      "execution_count": null,
      "metadata": {
        "id": "8VAIf_Pftm1l"
      },
      "outputs": [],
      "source": [
        "fig,ax = plt.subplots()\n",
        "ax.scatter(x, y, c=z, s=200, cmap = \"inferno\")"
      ]
    },
    {
      "cell_type": "markdown",
      "source": [
        "We can generate an even better graph if we combine color with size, like this:"
      ],
      "metadata": {
        "id": "1BekCbOtPmJl"
      }
    },
    {
      "cell_type": "code",
      "source": [
        "area = (30 * z)**2\n",
        "fig,ax = plt.subplots()\n",
        "ax.scatter(x, y, c=z, s=area, cmap = \"inferno\")"
      ],
      "metadata": {
        "id": "nrK1cR4RPraa"
      },
      "execution_count": null,
      "outputs": []
    },
    {
      "cell_type": "markdown",
      "metadata": {
        "id": "KqedZZrPt2n9"
      },
      "source": [
        "<br>\n",
        "\n",
        "OK, but since we sampled random numbers from $[0,1]$ we didn't have problems. What if our values are beyond that interval?"
      ]
    },
    {
      "cell_type": "code",
      "execution_count": null,
      "metadata": {
        "id": "OMcv30jpuMKu"
      },
      "outputs": [],
      "source": [
        "# We will sample Zs outside [0,1]\n",
        "np.random.seed(42)\n",
        "\n",
        "n = 50\n",
        "x = np.random.rand(n)\n",
        "y = np.random.rand(n)\n",
        "\n",
        "z = np.random.randn(n) # <-- sample from the normal distribution"
      ]
    },
    {
      "cell_type": "code",
      "source": [
        "fig,ax = plt.subplots()\n",
        "ax.scatter(x, y, c=z, s=200)"
      ],
      "metadata": {
        "id": "Kg54xqNkQNil"
      },
      "execution_count": null,
      "outputs": []
    },
    {
      "cell_type": "markdown",
      "metadata": {
        "id": "lGYau1LEvuvp"
      },
      "source": [
        "It still works! That's because `scatter` is smart enough to do the normalization for you."
      ]
    },
    {
      "cell_type": "markdown",
      "source": [
        "### Heat maps"
      ],
      "metadata": {
        "id": "xjlSBBHyQgR7"
      }
    },
    {
      "cell_type": "markdown",
      "metadata": {
        "id": "pfVFKoNpwHYu"
      },
      "source": [
        "Let's explore another common matplotlib function: `imshow`. I've taken the \"data\" below from [here](https://matplotlib.org/stable/gallery/images_contours_and_fields/image_annotated_heatmap.html#sphx-glr-gallery-images-contours-and-fields-image-annotated-heatmap-py)."
      ]
    },
    {
      "cell_type": "code",
      "execution_count": null,
      "metadata": {
        "id": "mbNaqRrkxH3u"
      },
      "outputs": [],
      "source": [
        "data = np.array([[0.8, 2.4, 2.5, 3.9, 0.0, 4.0, 0.0],\n",
        "                    [2.4, 0.0, 4.0, 1.0, 2.7, 0.0, 0.0],\n",
        "                    [1.1, 2.4, 0.8, 4.3, 1.9, 4.4, 0.0],\n",
        "                    [0.6, 0.0, 0.3, 0.0, 3.1, 0.0, 0.0],\n",
        "                    [0.7, 1.7, 0.6, 2.6, 2.2, 6.2, 0.0],\n",
        "                    [1.3, 1.2, 0.0, 0.0, 0.0, 3.2, 5.1],\n",
        "                    [0.1, 2.0, 0.0, 1.4, 0.0, 1.9, 6.3]])\n"
      ]
    },
    {
      "cell_type": "code",
      "source": [
        "fig, ax = plt.subplots()\n",
        "ax.imshow(data, cmap = \"YlGn\")"
      ],
      "metadata": {
        "id": "rhZzxkKsQj-e"
      },
      "execution_count": null,
      "outputs": []
    },
    {
      "cell_type": "markdown",
      "metadata": {
        "id": "RRNp66P9yLUa"
      },
      "source": [
        "#### **Exercise**\n",
        "\n",
        "Create a heatmap like the one above but using the colormap \"tab10\". Which one is easier to interpret?"
      ]
    },
    {
      "cell_type": "code",
      "source": [],
      "metadata": {
        "id": "zGKXE7YuQ2a7"
      },
      "execution_count": null,
      "outputs": []
    },
    {
      "cell_type": "markdown",
      "source": [
        "<br><br><br><br><br>"
      ],
      "metadata": {
        "id": "RO3CoG1jRF2R"
      }
    },
    {
      "cell_type": "markdown",
      "metadata": {
        "id": "lO9MDPlDy8qz"
      },
      "source": [
        "## Choosing Colormaps\n",
        "Great! Now let's take some time to talk about how to choose colormaps.\n",
        "\n",
        "### Greyscale!\n",
        "Personally, the first thing I like to consider when choosing colormaps is how they would look in grey scale. The rationale is that when others print your work, they will not usually print in color. You can find the greyscale version of default colormaps [here](https://matplotlib.org/stable/users/explain/colors/colormaps.html#grayscale-conversion).\n",
        "\n",
        "**Note:** Some journals require plots to be in greyscale!\n",
        "\n",
        "### Color blindness and other visual defficiencies\n",
        "There are colormaps made with color blindness in mind. You should consider these when preparing your plots for publication. For more on these, see [here](https://matplotlib.org/stable/users/explain/colors/colormaps.html). For a list of third party colormaps, see [here](https://matplotlib.org/mpl-third-party/#colormaps-and-styles).\n",
        "\n",
        "### Sequential colormaps\n",
        "Sequential colormaps aim to be perceived as incrementally changing, both when seen in color and in greyscale. These are good choices when the property you want to describe through color is continuous or has more than a few differentiation levels.\n",
        "\n",
        "### Diverging\n",
        "When your data has a critical or middle point that must be emphasized.\n",
        "\n",
        "### Cyclic\n",
        "When your data is cyclic, like in our waves example!\n",
        "\n",
        "### Qualitative\n",
        "Used to describe data of different quality. Limit their use to data with a few categories. Note that in greyscale these are often difficult to differentiate."
      ]
    },
    {
      "cell_type": "markdown",
      "metadata": {
        "id": "Y9zcppQAy1Vb"
      },
      "source": [
        "I find qualitative colormaps particularly useful for paired barplots, like in the following example:"
      ]
    },
    {
      "cell_type": "code",
      "execution_count": null,
      "metadata": {
        "id": "A7R_wG93obDV"
      },
      "outputs": [],
      "source": [
        "cm = mpl.colormaps[\"Paired\"]\n",
        "\n",
        "pa_slices = [3, 7, 5]\n",
        "npa_slices = [6, 5, 4]\n",
        "x = np.arange(3)\n",
        "\n",
        "w = .25\n",
        "fig, ax = plt.subplots()\n",
        "\n",
        "ax.bar(x, pa_slices, width = w, color = cm(0), label=\"Pineapple on pizza\")\n",
        "ax.bar(x+w, npa_slices, width = w, color = cm(1), label = \"No Pineapple on pizza\")\n",
        "\n",
        "ax.set_title(\"Number of slices by region\")\n",
        "ax.set_xticks(x+w/2, labels=[\"Northwest\", \"West\", \"North\"])\n",
        "ax.legend()"
      ]
    },
    {
      "cell_type": "markdown",
      "metadata": {
        "id": "2LfoXnXLg2AJ"
      },
      "source": [
        "For a further discussion on choosing colormaps see [here](https://matplotlib.org/stable/users/explain/colors/colormaps.html#colormaps)."
      ]
    },
    {
      "cell_type": "markdown",
      "metadata": {
        "id": "Ny1epnwXydKL"
      },
      "source": [
        "## Advanced topics"
      ]
    },
    {
      "cell_type": "markdown",
      "metadata": {
        "id": "3yL9nGI6kt3R"
      },
      "source": [
        "### Resampling\n",
        "\n",
        "Sequential colormaps are appealing but often have much more differentiation than what we need. For example, say we need only 10 differentiation colors. What do we do?\n",
        "\n",
        "We can **resample** our colormaps to obtain a smaller set.\n"
      ]
    },
    {
      "cell_type": "code",
      "execution_count": null,
      "metadata": {
        "id": "rc2Y3c4IstyA"
      },
      "outputs": [],
      "source": [
        "cm1 = mpl.colormaps[\"viridis\"]\n",
        "cm2 = cm1.resampled(10) # <-- Resampling\n",
        "\n",
        "fig, ax = plt.subplots(2,1, figsize=(6, 1))\n",
        "fig.colorbar(mpl.cm.ScalarMappable(cmap = cm1), cax = ax[0], orientation = \"horizontal\")\n",
        "fig.colorbar(mpl.cm.ScalarMappable(cmap = cm2), cax = ax[1], orientation = \"horizontal\")"
      ]
    },
    {
      "cell_type": "markdown",
      "metadata": {
        "id": "rzSpf3a_udnh"
      },
      "source": [
        "You can access the individual colors either by indexing or through the created subdivisions of the interval $[0,1)$."
      ]
    },
    {
      "cell_type": "code",
      "execution_count": null,
      "metadata": {
        "id": "Blz1owrRuqq8"
      },
      "outputs": [],
      "source": [
        "cm = mpl.colormaps[\"viridis\"].resampled(10)\n",
        "fig,ax = plt.subplots(1,2)\n",
        "x = np.linspace(0,3,30)\n",
        "\n",
        "dt = .1\n",
        "for i in [0,2,4,6,8]:\n",
        "  ax[0].plot(x,x+i, c = cm(i)) # <-- accessed with integer index\n",
        "  ax[1].plot(x, x+i*10*dt, c=cm(i*dt)) # <-- accessed with fraction in [0,1)\n"
      ]
    },
    {
      "cell_type": "markdown",
      "metadata": {
        "id": "dMBGS5O2yiWO"
      },
      "source": [
        "### Colorbars and Normalization\n",
        "\n",
        "OK, there is one mystery remaining: do you remember those colorbars I was making? What was that ScalarMappable argument about?\n",
        "\n",
        "ScalarMappable objects help us map to color space when our data is not in the\n",
        " $\\left[0,1\\right)$ range. All they do is take some other range, call it $\\left[a,b\\right]$ (doesn't matter if it is closed or not) and map it to $\\left[0,1\\right)$ for us (this is called **Normalization**), and then map it into color space with the colormap.\n",
        "\n",
        " **ScalarMappble:**\n",
        "\n",
        " $\\left[a,b\\right] \\;\\; → \\;\\; \\left[0,1\\right) \\;\\; → \\;\\; RGBA$"
      ]
    },
    {
      "cell_type": "markdown",
      "metadata": {
        "id": "49vO_ToZz1vh"
      },
      "source": [
        "Let's go back to out sinusoidal example. Our data region $[a,b] = [0,\\phi]$. First we must map this to $\\left[0,1\\right)$. We do this through `Normalize`:"
      ]
    },
    {
      "cell_type": "code",
      "execution_count": null,
      "metadata": {
        "id": "x-Hch6Bj0KNL"
      },
      "outputs": [],
      "source": [
        "norm = mpl.colors.Normalize(vmin=0, vmax=np.pi)"
      ]
    },
    {
      "cell_type": "markdown",
      "metadata": {
        "id": "15rIosyT0OhV"
      },
      "source": [
        "Now we can create our ScalarMappable:"
      ]
    },
    {
      "cell_type": "code",
      "execution_count": null,
      "metadata": {
        "id": "wDOihhsu0h09"
      },
      "outputs": [],
      "source": [
        "smap = mpl.cm.ScalarMappable(cmap = \"Purples\", norm = norm)"
      ]
    },
    {
      "cell_type": "markdown",
      "metadata": {
        "id": "N9om_Dax0lDP"
      },
      "source": [
        "and use it for our colorbar:"
      ]
    },
    {
      "cell_type": "code",
      "execution_count": null,
      "metadata": {
        "id": "J_9WMhJyztE2"
      },
      "outputs": [],
      "source": [
        "cm = mpl.colormaps[\"Purples\"]\n",
        "\n",
        "k = 3/4\n",
        "x = np.linspace(0, k*2*np.pi, num=200)\n",
        "phi_vec = np.linspace(0,np.pi, num=100)\n",
        "\n",
        "fig, ax = plt.subplots()\n",
        "for phi in phi_vec:\n",
        "  y = np.sin(x + phi)\n",
        "  ax.plot(x,y, c = cm(phi/np.pi))\n",
        "\n",
        "fig.colorbar(smap, ax = ax, label = r\"Phase $\\phi$\")"
      ]
    },
    {
      "cell_type": "markdown",
      "source": [
        "Not all normalization is linear. Some times you need logarithmic and other types of normalization. To learn more about it, see [here](https://matplotlib.org/stable/users/explain/colors/colormapnorms.html)."
      ],
      "metadata": {
        "id": "aeMHjkEwUdaw"
      }
    },
    {
      "cell_type": "markdown",
      "source": [
        "#### Automatic normalization\n",
        "\n",
        "Note: We don't always have to build our ScalarMappable manually. Some matplotlib functions are smart enough to do it for you, for example `scatter` and `imshow`."
      ],
      "metadata": {
        "id": "ocw8Nf841TP_"
      }
    },
    {
      "cell_type": "code",
      "source": [
        "np.random.seed(42)\n",
        "\n",
        "n = 50\n",
        "x = np.random.rand(n)\n",
        "y = np.random.rand(n)\n",
        "colors = np.random.rand(n)\n",
        "area = (30 * colors)**2\n",
        "\n",
        "fig,ax = plt.subplots()\n",
        "scat = ax.scatter(x, y, c=colors, s=area)\n",
        "\n",
        "fig.colorbar(scat)"
      ],
      "metadata": {
        "id": "9_h7gnwO1bJ0"
      },
      "execution_count": null,
      "outputs": []
    },
    {
      "cell_type": "markdown",
      "metadata": {
        "id": "MVtCy3oIykmS"
      },
      "source": [
        "### Creating your own colormaps!\n",
        "\n",
        "The only remaining thing is learning how to make your own colormaps! This is not very difficult now that you know how colormaps work. All you need is a set of **normalized** RGBA values. Below is a simple example. For a more comprehensive guide see [here](https://matplotlib.org/stable/users/explain/colors/colormap-manipulation.html#colormap-manipulation).\n",
        "\n"
      ]
    },
    {
      "cell_type": "markdown",
      "source": [
        "Let's get our normalized NU colors:"
      ],
      "metadata": {
        "id": "vYqun3Eh6Ofn"
      }
    },
    {
      "cell_type": "code",
      "source": [
        "NU_colors = [[78, 42, 132, 256],\n",
        "             [91, 59, 140, 256],\n",
        "             [104, 76, 150, 256],\n",
        "             [118, 93, 160, 256],\n",
        "             [131, 110, 170, 256],\n",
        "             [147, 128, 182, 256],\n",
        "             [164, 149, 195, 256],\n",
        "             [182, 172, 209, 256],\n",
        "             [204, 196, 223, 256],\n",
        "             [228, 224, 238, 256]]\n",
        "\n",
        "# The last number is the alpha transparency number, which is between 0 and 1.\n",
        "# (I made it 256 above so it normalizes to 1)\n",
        "\n",
        "NU_colors = np.array(NU_colors) / 256"
      ],
      "metadata": {
        "id": "v9TLp_qj2eKk"
      },
      "execution_count": null,
      "outputs": []
    },
    {
      "cell_type": "markdown",
      "source": [
        "This is how you create a colormap:"
      ],
      "metadata": {
        "id": "_9vTkO9e6S1I"
      }
    },
    {
      "cell_type": "code",
      "source": [
        "# We need to import ListedColorMap, see import cell at the very top\n",
        "\n",
        "cm_NU = ListedColormap(NU_colors)"
      ],
      "metadata": {
        "id": "NOTk_R1K6SE5"
      },
      "execution_count": null,
      "outputs": []
    },
    {
      "cell_type": "markdown",
      "source": [
        "Let's see it in action:"
      ],
      "metadata": {
        "id": "fGhVU_ff3_xj"
      }
    },
    {
      "cell_type": "code",
      "source": [
        "x = np.arange(10)\n",
        "y = x\n",
        "colors = x\n",
        "\n",
        "fig, ax = plt.subplots()\n",
        "\n",
        "ax.scatter(x,y,s=50*(1+x),\n",
        "           c = colors, cmap = cm_NU)"
      ],
      "metadata": {
        "id": "tm6trLkz4CBb"
      },
      "execution_count": null,
      "outputs": []
    },
    {
      "cell_type": "markdown",
      "source": [
        "## Conclusion\n",
        "\n",
        "*   Colormaps are lists of colors, kind of.\n",
        "*   Colormaps are maps from [0,1) to RGBA space.\n",
        "*   You can get a prespecified colormap with `matplotlib.colormaps[<name>]`\n",
        "*   There are several considerations for choosing a colormap: sequential vs qualitative, continuous vs discrete, cyclic, greyscale, etc.\n",
        "*   Some plotting functions, like `scatter` and `imshow` handle colormaps directly. For others, like `plot`, you have to provide individual colors from the colormap.\n",
        "*   Your data may need to be normalized before using a colormap.\n",
        "\n"
      ],
      "metadata": {
        "id": "Xjb548ggTBsE"
      }
    },
    {
      "cell_type": "markdown",
      "source": [
        "## Further resources\n",
        "\n",
        "Our own data visualization specialist, Aaron Geller, has created an excellent introduction to the topic, [here](https://github.com/ageller/IntroToDataVis?tab=readme-ov-file). Also see [here](https://sites.northwestern.edu/researchcomputing/2022/05/20/how-to-choose-a-color-scheme-for-your-scientific-figure/) for guidelines on choosing color schemes."
      ],
      "metadata": {
        "id": "9gux2hulTEqU"
      }
    }
  ],
  "metadata": {
    "colab": {
      "private_outputs": true,
      "provenance": []
    },
    "kernelspec": {
      "display_name": "Python 3",
      "name": "python3"
    },
    "language_info": {
      "name": "python"
    }
  },
  "nbformat": 4,
  "nbformat_minor": 0
}